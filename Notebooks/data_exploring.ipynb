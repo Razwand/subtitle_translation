{
 "cells": [
  {
   "cell_type": "markdown",
   "metadata": {},
   "source": [
    "### Building Dataset"
   ]
  },
  {
   "cell_type": "code",
   "execution_count": 4,
   "metadata": {},
   "outputs": [],
   "source": [
    "import os\n",
    "import pandas as pd\n",
    "#os.environ['TRANSFORMERS_CACHE']= ''"
   ]
  },
  {
   "cell_type": "markdown",
   "metadata": {},
   "source": [
    "Loading dataset from the hub"
   ]
  },
  {
   "cell_type": "code",
   "execution_count": 5,
   "metadata": {},
   "outputs": [
    {
     "name": "stderr",
     "output_type": "stream",
     "text": [
      "Using custom data configuration en_es_2014-55e54a2735c2ce8d\n",
      "Reusing dataset ted_talks_iwslt (C:\\Users\\asr_l\\.cache\\huggingface\\datasets\\ted_talks_iwslt\\en_es_2014-55e54a2735c2ce8d\\1.1.0\\43935b3fe470c753a023642e1f54b068c590847f9928bd3f2ec99f15702ad6a6)\n"
     ]
    },
    {
     "data": {
      "application/vnd.jupyter.widget-view+json": {
       "model_id": "1e8f5a931ff048839a88f03182691f37",
       "version_major": 2,
       "version_minor": 0
      },
      "text/plain": [
       "  0%|          | 0/1 [00:00<?, ?it/s]"
      ]
     },
     "metadata": {},
     "output_type": "display_data"
    }
   ],
   "source": [
    "from datasets import load_dataset\n",
    "dataset = load_dataset(\"ted_talks_iwslt\", language_pair=(\"en\",\"es\"), year=\"2014\")"
   ]
  },
  {
   "cell_type": "code",
   "execution_count": 6,
   "metadata": {},
   "outputs": [
    {
     "data": {
      "text/plain": [
       "DatasetDict({\n",
       "    train: Dataset({\n",
       "        features: ['translation'],\n",
       "        num_rows: 3068\n",
       "    })\n",
       "})"
      ]
     },
     "execution_count": 6,
     "metadata": {},
     "output_type": "execute_result"
    }
   ],
   "source": [
    "dataset"
   ]
  },
  {
   "cell_type": "markdown",
   "metadata": {},
   "source": [
    "Keeping English and Spanish Ted subtitles"
   ]
  },
  {
   "cell_type": "code",
   "execution_count": 7,
   "metadata": {},
   "outputs": [],
   "source": [
    "l_en = []\n",
    "l_es = []\n",
    "for ele in dataset['train']['translation']:\n",
    "   l_en.append(ele['en'])\n",
    "   l_es.append(ele['es'])"
   ]
  },
  {
   "cell_type": "code",
   "execution_count": 8,
   "metadata": {},
   "outputs": [],
   "source": [
    "df = pd.DataFrame()\n",
    "df['Original_Sentence'] = l_en\n",
    "df['Translate_SP'] = l_es"
   ]
  },
  {
   "cell_type": "code",
   "execution_count": 9,
   "metadata": {},
   "outputs": [
    {
     "data": {
      "text/html": [
       "<div>\n",
       "<style scoped>\n",
       "    .dataframe tbody tr th:only-of-type {\n",
       "        vertical-align: middle;\n",
       "    }\n",
       "\n",
       "    .dataframe tbody tr th {\n",
       "        vertical-align: top;\n",
       "    }\n",
       "\n",
       "    .dataframe thead th {\n",
       "        text-align: right;\n",
       "    }\n",
       "</style>\n",
       "<table border=\"1\" class=\"dataframe\">\n",
       "  <thead>\n",
       "    <tr style=\"text-align: right;\">\n",
       "      <th></th>\n",
       "      <th>Original_Sentence</th>\n",
       "      <th>Translate_SP</th>\n",
       "    </tr>\n",
       "  </thead>\n",
       "  <tbody>\n",
       "    <tr>\n",
       "      <th>0</th>\n",
       "      <td>We've made incredible advances in technology i...</td>\n",
       "      <td>Hemos hecho avances increíbles en tecnología e...</td>\n",
       "    </tr>\n",
       "    <tr>\n",
       "      <th>1</th>\n",
       "      <td>Krista Donaldson: The $80 prosthetic knee that...</td>\n",
       "      <td>Krista Donaldson: La prótesis de rodilla de US...</td>\n",
       "    </tr>\n",
       "    <tr>\n",
       "      <th>2</th>\n",
       "      <td>Almost everything we own and use, at some poin...</td>\n",
       "      <td>Casi todo lo que tenemos y usamos, en algún mo...</td>\n",
       "    </tr>\n",
       "    <tr>\n",
       "      <th>3</th>\n",
       "      <td>Rose George: Inside the secret shipping industry</td>\n",
       "      <td>Rose George: El transporte marítimo por dentro</td>\n",
       "    </tr>\n",
       "    <tr>\n",
       "      <th>4</th>\n",
       "      <td>Snow Dragon. Pure Imagination. Frozen Minotaur...</td>\n",
       "      <td>Dragón de Nieve. Pura Imaginación. Minotauro H...</td>\n",
       "    </tr>\n",
       "    <tr>\n",
       "      <th>...</th>\n",
       "      <td>...</td>\n",
       "      <td>...</td>\n",
       "    </tr>\n",
       "    <tr>\n",
       "      <th>3063</th>\n",
       "      <td>David Pogue: Simplicity sells</td>\n",
       "      <td>David Pogue dice \"La Simplicidad Vende\"</td>\n",
       "    </tr>\n",
       "    <tr>\n",
       "      <th>3064</th>\n",
       "      <td>In an emotionally charged talk, MacArthur-winn...</td>\n",
       "      <td>En una charla altamente emotiva, la activista ...</td>\n",
       "    </tr>\n",
       "    <tr>\n",
       "      <th>3065</th>\n",
       "      <td>Majora Carter: Greening the ghetto</td>\n",
       "      <td>Un recorrido por la renovación urbana de la ma...</td>\n",
       "    </tr>\n",
       "    <tr>\n",
       "      <th>3066</th>\n",
       "      <td>Sir Ken Robinson makes an entertaining and pro...</td>\n",
       "      <td>Sir Ken Robinson plantea de manera entretenida...</td>\n",
       "    </tr>\n",
       "    <tr>\n",
       "      <th>3067</th>\n",
       "      <td>Ken Robinson: How schools kill creativity</td>\n",
       "      <td>Ken Robinson dice que las escuelas matan la cr...</td>\n",
       "    </tr>\n",
       "  </tbody>\n",
       "</table>\n",
       "<p>3068 rows × 2 columns</p>\n",
       "</div>"
      ],
      "text/plain": [
       "                                      Original_Sentence  \\\n",
       "0     We've made incredible advances in technology i...   \n",
       "1     Krista Donaldson: The $80 prosthetic knee that...   \n",
       "2     Almost everything we own and use, at some poin...   \n",
       "3      Rose George: Inside the secret shipping industry   \n",
       "4     Snow Dragon. Pure Imagination. Frozen Minotaur...   \n",
       "...                                                 ...   \n",
       "3063                      David Pogue: Simplicity sells   \n",
       "3064  In an emotionally charged talk, MacArthur-winn...   \n",
       "3065                 Majora Carter: Greening the ghetto   \n",
       "3066  Sir Ken Robinson makes an entertaining and pro...   \n",
       "3067          Ken Robinson: How schools kill creativity   \n",
       "\n",
       "                                           Translate_SP  \n",
       "0     Hemos hecho avances increíbles en tecnología e...  \n",
       "1     Krista Donaldson: La prótesis de rodilla de US...  \n",
       "2     Casi todo lo que tenemos y usamos, en algún mo...  \n",
       "3        Rose George: El transporte marítimo por dentro  \n",
       "4     Dragón de Nieve. Pura Imaginación. Minotauro H...  \n",
       "...                                                 ...  \n",
       "3063            David Pogue dice \"La Simplicidad Vende\"  \n",
       "3064  En una charla altamente emotiva, la activista ...  \n",
       "3065  Un recorrido por la renovación urbana de la ma...  \n",
       "3066  Sir Ken Robinson plantea de manera entretenida...  \n",
       "3067  Ken Robinson dice que las escuelas matan la cr...  \n",
       "\n",
       "[3068 rows x 2 columns]"
      ]
     },
     "execution_count": 9,
     "metadata": {},
     "output_type": "execute_result"
    }
   ],
   "source": [
    "df"
   ]
  },
  {
   "cell_type": "markdown",
   "metadata": {},
   "source": [
    "Train/Validation/Test dataset split"
   ]
  },
  {
   "cell_type": "code",
   "execution_count": 10,
   "metadata": {},
   "outputs": [],
   "source": [
    "import numpy as np\n",
    "train, validation, test = \\\n",
    "              np.split(df.sample(frac=1, random_state=42), \n",
    "                       [int(.8*len(df)), int(.9*len(df))])"
   ]
  },
  {
   "cell_type": "code",
   "execution_count": 11,
   "metadata": {},
   "outputs": [],
   "source": [
    "import pyarrow as pa\n",
    "import pyarrow.dataset as ds\n",
    "import pandas as pd\n",
    "import datasets\n",
    "from datasets import Dataset, concatenate_datasets\n",
    "dataset = ds.dataset(pa.Table.from_pandas(train).to_batches())\n",
    "dataset = ds.dataset(pa.Table.from_pandas(validation).to_batches())\n",
    "dataset = ds.dataset(pa.Table.from_pandas(test).to_batches())\n",
    "\n",
    "\n",
    "### convert to Huggingface dataset\n",
    "hg_dataset_train = Dataset(pa.Table.from_pandas(train))\n",
    "hg_dataset_validation = Dataset(pa.Table.from_pandas(validation))\n",
    "hg_dataset_test = Dataset(pa.Table.from_pandas(test))"
   ]
  },
  {
   "cell_type": "code",
   "execution_count": 12,
   "metadata": {},
   "outputs": [],
   "source": [
    "complete_dict =  datasets.DatasetDict({\"train\":hg_dataset_train,\"validation\":hg_dataset_validation, \"test\":hg_dataset_test})"
   ]
  },
  {
   "cell_type": "markdown",
   "metadata": {},
   "source": [
    "Dataset created"
   ]
  },
  {
   "cell_type": "code",
   "execution_count": 13,
   "metadata": {},
   "outputs": [
    {
     "data": {
      "text/plain": [
       "DatasetDict({\n",
       "    train: Dataset({\n",
       "        features: ['Original_Sentence', 'Translate_SP', '__index_level_0__'],\n",
       "        num_rows: 2454\n",
       "    })\n",
       "    validation: Dataset({\n",
       "        features: ['Original_Sentence', 'Translate_SP', '__index_level_0__'],\n",
       "        num_rows: 307\n",
       "    })\n",
       "    test: Dataset({\n",
       "        features: ['Original_Sentence', 'Translate_SP', '__index_level_0__'],\n",
       "        num_rows: 307\n",
       "    })\n",
       "})"
      ]
     },
     "execution_count": 13,
     "metadata": {},
     "output_type": "execute_result"
    }
   ],
   "source": [
    "complete_dict"
   ]
  },
  {
   "cell_type": "code",
   "execution_count": 31,
   "metadata": {},
   "outputs": [],
   "source": [
    "complete_dict.save_to_disk('ted_trans_dataset')"
   ]
  }
 ],
 "metadata": {
  "kernelspec": {
   "display_name": "Python 3.10.4 ('translate_subs')",
   "language": "python",
   "name": "python3"
  },
  "language_info": {
   "codemirror_mode": {
    "name": "ipython",
    "version": 3
   },
   "file_extension": ".py",
   "mimetype": "text/x-python",
   "name": "python",
   "nbconvert_exporter": "python",
   "pygments_lexer": "ipython3",
   "version": "3.10.4"
  },
  "orig_nbformat": 4,
  "vscode": {
   "interpreter": {
    "hash": "6026b207ef2cf652b578c5eab20e9ac6e2c3bb180b2ce2a79d9c6fff35526895"
   }
  }
 },
 "nbformat": 4,
 "nbformat_minor": 2
}
