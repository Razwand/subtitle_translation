{
 "cells": [
  {
   "cell_type": "code",
   "execution_count": 1,
   "metadata": {},
   "outputs": [],
   "source": [
    "from transformers import AutoModelForSeq2SeqLM,AutoTokenizer\n",
    "            "
   ]
  },
  {
   "cell_type": "code",
   "execution_count": 2,
   "metadata": {},
   "outputs": [],
   "source": [
    "model = AutoModelForSeq2SeqLM.from_pretrained('mod_translate')\n",
    "tokenizer = AutoTokenizer.from_pretrained('mod_translate')\n"
   ]
  },
  {
   "cell_type": "code",
   "execution_count": 3,
   "metadata": {},
   "outputs": [],
   "source": [
    "def translate(line):\n",
    "    text = tokenizer([line],return_tensors=\"pt\")\n",
    "    output_text = model.generate(text['input_ids'])\n",
    "    output = tokenizer.decode(output_text.squeeze(), skip_special_tokens=True)\n",
    "    return(output)\n"
   ]
  },
  {
   "cell_type": "code",
   "execution_count": 8,
   "metadata": {},
   "outputs": [],
   "source": [
    "def write_file(old_line,line, file,type):\n",
    "    line = line.replace('Larguin','')\n",
    "    if type == 't':\n",
    "        file.write(old_line.replace(old_line,str(line)+\"\\n\"))\n",
    "    else:\n",
    "        file.write(old_line.replace(old_line,str(line)))\n"
   ]
  },
  {
   "cell_type": "code",
   "execution_count": 9,
   "metadata": {},
   "outputs": [],
   "source": [
    "def check(line,newf):\n",
    "    try: \n",
    "        numb = int(line)\n",
    "        write_file(line,line,newf,'o')\n",
    "    except:\n",
    "        if '->' in line:\n",
    "            write_file(line,line,newf,'o')\n",
    "        else:\n",
    "           string_ = translate(line)\n",
    "           write_file(line,string_,newf,'t')\n",
    "            "
   ]
  },
  {
   "cell_type": "code",
   "execution_count": 1,
   "metadata": {},
   "outputs": [],
   "source": [
    "original_file_name = 'HTWJW_1.srt.txt'\n",
    "new_file_name = original_file_name[:-8] +'_SP.srt'"
   ]
  },
  {
   "cell_type": "code",
   "execution_count": 10,
   "metadata": {},
   "outputs": [],
   "source": [
    "with open(new_file_name,'w') as new_file:\n",
    "        with open(original_file_name, \"r\") as old_file:\n",
    "            for line in old_file:\n",
    "                check(line,new_file)\n",
    "\n",
    "                "
   ]
  }
 ],
 "metadata": {
  "kernelspec": {
   "display_name": "Python 3.10.4 ('translate_subs')",
   "language": "python",
   "name": "python3"
  },
  "language_info": {
   "codemirror_mode": {
    "name": "ipython",
    "version": 3
   },
   "file_extension": ".py",
   "mimetype": "text/x-python",
   "name": "python",
   "nbconvert_exporter": "python",
   "pygments_lexer": "ipython3",
   "version": "3.10.4"
  },
  "orig_nbformat": 4,
  "vscode": {
   "interpreter": {
    "hash": "6026b207ef2cf652b578c5eab20e9ac6e2c3bb180b2ce2a79d9c6fff35526895"
   }
  }
 },
 "nbformat": 4,
 "nbformat_minor": 2
}
